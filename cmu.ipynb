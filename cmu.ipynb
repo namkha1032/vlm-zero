{
 "cells": [
  {
   "cell_type": "markdown",
   "id": "3db43f44",
   "metadata": {},
   "source": [
    "three principle of modality: heteo, connection, interaction\n",
    "\n",
    "six challenges: representation, alignment, reasoning, generation, transference, quantification"
   ]
  },
  {
   "cell_type": "markdown",
   "id": "1de9a120",
   "metadata": {},
   "source": [
    "# Challenges in Multimodal"
   ]
  },
  {
   "cell_type": "markdown",
   "id": "ef3f24d8",
   "metadata": {},
   "source": [
    "## Representation\n",
    "\n"
   ]
  },
  {
   "cell_type": "markdown",
   "id": "8507da2a",
   "metadata": {},
   "source": [
    "## Alignment\n",
    "\n"
   ]
  },
  {
   "cell_type": "markdown",
   "id": "38177085",
   "metadata": {},
   "source": [
    "## Transference\n",
    "\n",
    "- Back in the day, CNN has more knowledge, so we transfer knowledge from CNN to NLP\n",
    "- Now, LLM has more knowledge, so we do it the other way\n",
    "- Transference happen because one modality has less data than the other"
   ]
  },
  {
   "cell_type": "markdown",
   "id": "7ebb7406",
   "metadata": {},
   "source": [
    "## Interaction\n",
    "**Interaction happen only during inference**. If we don't inference, we look at two modalities, whether they share or don't share information --> this is connection --> alignment challenge\n",
    "\n",
    "- 2 modalities completely share their meanings, but when we learn the model together because the information in one modality is completely redundant from other modality. Then we fuse them -> there's no interaction\n",
    "- 2 modalities that do not share anything, but have great interaction --> interaction is probably more likely when there's less sharing because there's more diversity"
   ]
  },
  {
   "cell_type": "markdown",
   "id": "5e5b79c9",
   "metadata": {},
   "source": [
    "Gated fusion: dynamic fusion"
   ]
  },
  {
   "cell_type": "markdown",
   "id": "3ffc10dc",
   "metadata": {},
   "source": [
    "## Taxonomy of interaction\n",
    "\n",
    "We have two modalities for human and animal:\n",
    "- First level of taxonomy: are they **redundant (shared information)** or not\n",
    "- With **Non-redundancy**: if one modality have more signal than the other --> dominance"
   ]
  },
  {
   "cell_type": "markdown",
   "id": "319024a3",
   "metadata": {},
   "source": [
    "## Multimodal fusion\n"
   ]
  }
 ],
 "metadata": {
  "language_info": {
   "name": "python"
  }
 },
 "nbformat": 4,
 "nbformat_minor": 5
}
