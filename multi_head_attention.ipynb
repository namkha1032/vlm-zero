{
 "cells": [
  {
   "cell_type": "markdown",
   "id": "e5909e79",
   "metadata": {},
   "source": [
    "# Set up"
   ]
  },
  {
   "cell_type": "code",
   "execution_count": null,
   "id": "e61a356a",
   "metadata": {},
   "outputs": [
    {
     "name": "stdout",
     "output_type": "stream",
     "text": [
      "tensor([[0.8823, 0.9150, 0.3829],\n",
      "        [0.9593, 0.3904, 0.6009]])\n"
     ]
    }
   ],
   "source": [
    "import torch\n",
    "\n",
    "# Fix the random seed\n",
    "torch.manual_seed(42)\n",
    "\n",
    "# Random tensor of size (2, 3)\n",
    "tensor = torch.rand(2, 3)\n",
    "\n",
    "print(tensor)"
   ]
  },
  {
   "cell_type": "code",
   "execution_count": null,
   "id": "015eabc6",
   "metadata": {},
   "outputs": [
    {
     "data": {
      "text/plain": [
       "tensor([[0.4963, 0.7682, 0.0885, 0.1320, 0.3074, 0.6341],\n",
       "        [0.4901, 0.8964, 0.4556, 0.6323, 0.3489, 0.4017],\n",
       "        [0.0223, 0.1689, 0.2939, 0.5185, 0.6977, 0.8000],\n",
       "        [0.1610, 0.2823, 0.6816, 0.9152, 0.3971, 0.8742]])"
      ]
     },
     "execution_count": 40,
     "metadata": {},
     "output_type": "execute_result"
    }
   ],
   "source": [
    "torch.manual_seed(0)\n",
    "input_token = torch.rand(4,6)\n",
    "input_token"
   ]
  },
  {
   "cell_type": "code",
   "execution_count": null,
   "id": "5d40b7d6",
   "metadata": {},
   "outputs": [
    {
     "data": {
      "text/plain": [
       "tensor([[0.7576, 0.2793, 0.4031, 0.7347, 0.0293, 0.7999],\n",
       "        [0.3971, 0.7544, 0.5695, 0.4388, 0.6387, 0.5247],\n",
       "        [0.6826, 0.3051, 0.4635, 0.4550, 0.5725, 0.4980],\n",
       "        [0.9371, 0.6556, 0.3138, 0.1980, 0.4162, 0.2843],\n",
       "        [0.3398, 0.5239, 0.7981, 0.7718, 0.0112, 0.8100],\n",
       "        [0.6397, 0.9743, 0.8300, 0.0444, 0.0246, 0.2588]])"
      ]
     },
     "execution_count": 37,
     "metadata": {},
     "output_type": "execute_result"
    }
   ],
   "source": [
    "torch.manual_seed(1)\n",
    "w_key = torch.rand(6, 6)\n",
    "torch.manual_seed(2)\n",
    "w_query = torch.rand(6, 6)\n",
    "torch.manual_seed(3)\n",
    "w_value = torch.rand(6, 6)\n",
    "w_key"
   ]
  },
  {
   "cell_type": "markdown",
   "id": "8dd4ba0f",
   "metadata": {},
   "source": [
    "# Single attention head"
   ]
  },
  {
   "cell_type": "code",
   "execution_count": null,
   "id": "c4d49618",
   "metadata": {},
   "outputs": [
    {
     "data": {
      "text/plain": [
       "tensor([[44.0492, 62.1182, 36.8603, 39.2654, 39.7193, 38.2237],\n",
       "        [62.7624, 88.5186, 52.5154, 55.9376, 56.5921, 54.4579],\n",
       "        [45.9096, 64.7556, 38.4231, 40.9384, 41.3846, 39.8381],\n",
       "        [64.8527, 91.4548, 54.2801, 57.8339, 58.4687, 56.2849]])"
      ]
     },
     "execution_count": 42,
     "metadata": {},
     "output_type": "execute_result"
    }
   ],
   "source": [
    "key = torch.matmul(input_token, w_key)\n",
    "query = torch.matmul(input_token, w_query)\n",
    "value = torch.matmul(input_token, w_value)\n",
    "attn_weight = torch.matmul(query, key.T)\n",
    "attn_score = torch.matmul(attn_weight, value)\n",
    "attn_score"
   ]
  },
  {
   "cell_type": "markdown",
   "id": "0a268053",
   "metadata": {},
   "source": [
    "# Method 1: Split the weight"
   ]
  },
  {
   "cell_type": "code",
   "execution_count": null,
   "id": "271afaa9",
   "metadata": {},
   "outputs": [],
   "source": [
    "w_key1 = w_key[:, :3]\n",
    "w_key2 = w_key[:, 3:]\n",
    "w_query1 = w_query[:, :3]\n",
    "w_query2 = w_query[:, 3:]\n",
    "w_value1 = w_value[:, :3]\n",
    "w_value2 = w_value[:, 3:]"
   ]
  },
  {
   "cell_type": "code",
   "execution_count": null,
   "id": "5ec30632",
   "metadata": {},
   "outputs": [
    {
     "data": {
      "text/plain": [
       "tensor([[25.9219, 36.7194, 21.6421],\n",
       "        [37.6478, 53.3254, 31.4308],\n",
       "        [27.6223, 39.1307, 23.0655],\n",
       "        [37.8793, 53.6592, 31.6296]])"
      ]
     },
     "execution_count": 49,
     "metadata": {},
     "output_type": "execute_result"
    }
   ],
   "source": [
    "key1 = torch.matmul(input_token, w_key1)\n",
    "query1 = torch.matmul(input_token, w_query1)\n",
    "value1 = torch.matmul(input_token, w_value1)\n",
    "attn_weight1 = torch.matmul(query1, key1.T)\n",
    "attn_score1 = torch.matmul(attn_weight1, value1)\n",
    "attn_score1"
   ]
  },
  {
   "cell_type": "code",
   "execution_count": null,
   "id": "07584dd0",
   "metadata": {},
   "outputs": [
    {
     "data": {
      "text/plain": [
       "tensor([[16.2456, 16.3873, 15.8126],\n",
       "        [22.5088, 22.7015, 21.9066],\n",
       "        [16.4007, 16.5261, 15.9538],\n",
       "        [24.1872, 24.3773, 23.5310]])"
      ]
     },
     "execution_count": 50,
     "metadata": {},
     "output_type": "execute_result"
    }
   ],
   "source": [
    "key2 = torch.matmul(input_token, w_key2)\n",
    "query2 = torch.matmul(input_token, w_query2)\n",
    "value2 = torch.matmul(input_token, w_value2)\n",
    "attn_weight2 = torch.matmul(query2, key2.T)\n",
    "attn_score2 = torch.matmul(attn_weight2, value2)\n",
    "attn_score2"
   ]
  },
  {
   "cell_type": "markdown",
   "id": "628d2f8a",
   "metadata": {},
   "source": [
    "# Method 2: Split the QKV"
   ]
  },
  {
   "cell_type": "code",
   "execution_count": null,
   "id": "59b7652c",
   "metadata": {},
   "outputs": [
    {
     "data": {
      "text/plain": [
       "tensor([[1.3753, 1.6105, 1.4916],\n",
       "        [2.0064, 1.9409, 1.7296],\n",
       "        [1.5193, 1.7082, 1.6249],\n",
       "        [2.2511, 2.1256, 1.8713]])"
      ]
     },
     "execution_count": 52,
     "metadata": {},
     "output_type": "execute_result"
    }
   ],
   "source": [
    "key3 = key[:, :3]\n",
    "key4 = key[:, 3:]\n",
    "query3 = query[:, :3]\n",
    "query4 = query[:, 3:]\n",
    "value3 = value[:, :3]\n",
    "value4 = value[:, 3:]\n",
    "key3"
   ]
  },
  {
   "cell_type": "code",
   "execution_count": null,
   "id": "cab2b963",
   "metadata": {},
   "outputs": [
    {
     "data": {
      "text/plain": [
       "tensor([[25.9219, 36.7194, 21.6421],\n",
       "        [37.6478, 53.3254, 31.4308],\n",
       "        [27.6223, 39.1307, 23.0655],\n",
       "        [37.8793, 53.6592, 31.6296]])"
      ]
     },
     "execution_count": 53,
     "metadata": {},
     "output_type": "execute_result"
    }
   ],
   "source": [
    "attn_weight3 = torch.matmul(query3, key3.T)\n",
    "attn_score3 = torch.matmul(attn_weight3, value3)\n",
    "attn_score3"
   ]
  },
  {
   "cell_type": "code",
   "execution_count": null,
   "id": "bf0b75f9",
   "metadata": {},
   "outputs": [
    {
     "data": {
      "text/plain": [
       "tensor([[16.2456, 16.3873, 15.8126],\n",
       "        [22.5088, 22.7015, 21.9066],\n",
       "        [16.4007, 16.5261, 15.9538],\n",
       "        [24.1872, 24.3773, 23.5310]])"
      ]
     },
     "execution_count": 54,
     "metadata": {},
     "output_type": "execute_result"
    }
   ],
   "source": [
    "attn_weight4 = torch.matmul(query4, key4.T)\n",
    "attn_score4 = torch.matmul(attn_weight4, value4)\n",
    "attn_score4"
   ]
  }
 ],
 "metadata": {
  "kernelspec": {
   "display_name": "namkha_env",
   "language": "python",
   "name": "python3"
  },
  "language_info": {
   "codemirror_mode": {
    "name": "ipython",
    "version": 3
   },
   "file_extension": ".py",
   "mimetype": "text/x-python",
   "name": "python",
   "nbconvert_exporter": "python",
   "pygments_lexer": "ipython3",
   "version": "3.10.16"
  }
 },
 "nbformat": 4,
 "nbformat_minor": 5
}
